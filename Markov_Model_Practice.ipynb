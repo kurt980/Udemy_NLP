{
  "nbformat": 4,
  "nbformat_minor": 0,
  "metadata": {
    "colab": {
      "provenance": [],
      "collapsed_sections": [],
      "authorship_tag": "ABX9TyP/h1j1MTnfzyK07uvuygA8",
      "include_colab_link": true
    },
    "kernelspec": {
      "name": "python3",
      "display_name": "Python 3"
    },
    "language_info": {
      "name": "python"
    }
  },
  "cells": [
    {
      "cell_type": "markdown",
      "metadata": {
        "id": "view-in-github",
        "colab_type": "text"
      },
      "source": [
        "<a href=\"https://colab.research.google.com/github/kurt980/Udemy_NLP/blob/main/Markov_Model_Practice.ipynb\" target=\"_parent\"><img src=\"https://colab.research.google.com/assets/colab-badge.svg\" alt=\"Open In Colab\"/></a>"
      ]
    },
    {
      "cell_type": "markdown",
      "source": [
        "What to do?\n",
        "\n",
        "I. Data Processing:\n",
        "1. Clean text by removing punctuations, trailing symbols, replacing upper case,etc.\n",
        "2. For each sentence, regardless of the whole poem, signalize them and convert each word into indices; The model is built on sentence-level;\n",
        "3. The sentences will be used to calculate A_k;\n",
        "\n",
        "II. Training:\n",
        "1. Compute A_k and pi_k for each class k using training set;\n",
        "2. Construct a model that takes A_k and pi_k from training set;\n",
        "\n",
        "III. Predicting:\n",
        "1. Convert testing sets into integers;\n",
        "2. Feed testing sets into the model, predict\n"
      ],
      "metadata": {
        "id": "4qoN_UcMMb8d"
      }
    },
    {
      "cell_type": "markdown",
      "source": [
        "Data Processing"
      ],
      "metadata": {
        "id": "oXgGxZIeQD1o"
      }
    },
    {
      "cell_type": "code",
      "execution_count": null,
      "metadata": {
        "id": "lYZeJlgBMIjf"
      },
      "outputs": [],
      "source": [
        "!wget -nc https://raw.githubusercontent.com/lazyprogrammer/machine_learning_examples/master/hmm_class/edgar_allan_poe.txt\n",
        "!wget -nc https://raw.githubusercontent.com/lazyprogrammer/machine_learning_examples/master/hmm_class/robert_frost.txt"
      ]
    },
    {
      "cell_type": "code",
      "source": [
        "import numpy as np\n",
        "import matplotlib.pyplot as plt\n",
        "import string\n",
        "from sklearn.model_selection import train_test_split"
      ],
      "metadata": {
        "id": "_Lh9iUnhQJaJ"
      },
      "execution_count": 2,
      "outputs": []
    },
    {
      "cell_type": "code",
      "source": [
        "input_files = [\n",
        "  'edgar_allan_poe.txt',\n",
        "  'robert_frost.txt',\n",
        "]"
      ],
      "metadata": {
        "id": "hMHvg-FTQOn-"
      },
      "execution_count": 3,
      "outputs": []
    },
    {
      "cell_type": "markdown",
      "source": [
        "Put each line with a label, cleaned"
      ],
      "metadata": {
        "id": "S9VGbENOQUvi"
      }
    },
    {
      "cell_type": "code",
      "source": [
        "input_texts = []\n",
        "labels = []\n",
        "\n",
        "for label,f in enumerate(input_files):\n",
        "  # read lines\n",
        "  for line in open(f):\n",
        "    # get rid of trailing texts and lower cases\n",
        "    line = line.rstrip().lower()\n",
        "    if line:\n",
        "      # remove punctuation\n",
        "      line = line.translate(str.maketrans('', '', string.punctuation))\n",
        "\n",
        "      input_texts.append(line)\n",
        "      labels.append(label)"
      ],
      "metadata": {
        "id": "qYtKhREFQcrs"
      },
      "execution_count": 4,
      "outputs": []
    },
    {
      "cell_type": "code",
      "source": [],
      "metadata": {
        "id": "euJqLflZRe-D"
      },
      "execution_count": null,
      "outputs": []
    },
    {
      "cell_type": "code",
      "source": [],
      "metadata": {
        "id": "o7kqA-rMRn1R"
      },
      "execution_count": null,
      "outputs": []
    },
    {
      "cell_type": "code",
      "source": [],
      "metadata": {
        "id": "BCCVAICcRn9J"
      },
      "execution_count": null,
      "outputs": []
    },
    {
      "cell_type": "code",
      "source": [],
      "metadata": {
        "id": "J1Un-HQ_Rn_8"
      },
      "execution_count": null,
      "outputs": []
    },
    {
      "cell_type": "code",
      "source": [],
      "metadata": {
        "id": "LbwjGQ47RoCi"
      },
      "execution_count": null,
      "outputs": []
    }
  ]
}